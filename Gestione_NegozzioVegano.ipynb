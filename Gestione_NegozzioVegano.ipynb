{
  "nbformat": 4,
  "nbformat_minor": 0,
  "metadata": {
    "colab": {
      "provenance": [],
      "mount_file_id": "1PQF7V8Sm80jGuXopX4kY9RFcMxbLjcq6",
      "authorship_tag": "ABX9TyPWNJfWKLiM1eqOD0e3xePo",
      "include_colab_link": true
    },
    "kernelspec": {
      "name": "python3",
      "display_name": "Python 3"
    },
    "language_info": {
      "name": "python"
    }
  },
  "cells": [
    {
      "cell_type": "markdown",
      "metadata": {
        "id": "view-in-github",
        "colab_type": "text"
      },
      "source": [
        "<a href=\"https://colab.research.google.com/github/Alex-Gnn2813/Projects-Profession-AI-Data-Analytics-course/blob/main/Gestione_NegozzioVegano.ipynb\" target=\"_parent\"><img src=\"https://colab.research.google.com/assets/colab-badge.svg\" alt=\"Open In Colab\"/></a>"
      ]
    },
    {
      "cell_type": "markdown",
      "source": [
        "#**Project: Vegan product store software**\n"
      ],
      "metadata": {
        "id": "QlUpGxUfT8uC"
      }
    },
    {
      "cell_type": "markdown",
      "source": [
        "##**Section 1:** *the functions*"
      ],
      "metadata": {
        "id": "30wR7CRfYQos"
      }
    },
    {
      "cell_type": "markdown",
      "source": [
        "###***Useful functions*** in managing the program :"
      ],
      "metadata": {
        "id": "6quCVEwChggZ"
      }
    },
    {
      "cell_type": "markdown",
      "source": [
        "####*verify* & *new_file*"
      ],
      "metadata": {
        "id": "ULwCyJdEaGlI"
      }
    },
    {
      "cell_type": "code",
      "source": [
        "\"\"\"\n",
        "verify(): Verifies that the file exists. If the file doesn't exist, new_file() creates it. It will be called twice in the program.\n",
        "\"\"\"\n",
        "\n",
        "def verify(address):\n",
        "  try:\n",
        "    file_data=open (address,\"r\",newline='',encoding=\"utf-8\")\n",
        "    file_data.close()\n",
        "  except FileNotFoundError:\n",
        "    \"\"\n",
        "    new_file(address)\n"
      ],
      "metadata": {
        "id": "QNyxygGFMqt7"
      },
      "execution_count": null,
      "outputs": []
    },
    {
      "cell_type": "code",
      "source": [
        "\"\"\"\n",
        "new_file(): create a new file\n",
        "\"\"\"\n",
        "\n",
        "def new_file(address):\n",
        "  file_data=open (address,\"w\",newline='',encoding=\"utf-8\")\n",
        "  csv_write=csv.DictWriter(file_data,fieldnames=[\"PRODOTTO\",\"QUANTITA'\",\"PREZZO\",\"PREZZO_ACQUISTO\"])\n",
        "  csv_write.writeheader()\n",
        "  file_data.close()\n"
      ],
      "metadata": {
        "id": "tE4CWf1VMseY"
      },
      "execution_count": null,
      "outputs": []
    },
    {
      "cell_type": "markdown",
      "source": [
        "####*error_handling*"
      ],
      "metadata": {
        "id": "GFQWKpUH1SEN"
      }
    },
    {
      "cell_type": "code",
      "source": [
        "\"\"\"\n",
        "error_handling(): shows an error message if the given data type isn't coherent and allows you to re-enter it.\n",
        "\"\"\"\n",
        "\n",
        "def error_handling(type_d,message,comma):\n",
        "  in_mess=None\n",
        "  while in_mess==None:\n",
        "    try:\n",
        "      in_mess=type_d(input(message))\n",
        "      assert in_mess>=0\n",
        "    except Exception:\n",
        "      in_mess=None\n",
        "      if comma==\"y\":\n",
        "        add_m=\" ne numeri decimali \"\n",
        "      else:\n",
        "        add_m=\" \"\n",
        "      print(f\"In questo campo NON sono accetati ne numeri negativi{add_m}ne lettere.\\nRiprova.\")\n",
        "  return in_mess\n"
      ],
      "metadata": {
        "id": "tsBOI635xoB_"
      },
      "execution_count": null,
      "outputs": []
    },
    {
      "cell_type": "markdown",
      "source": [
        "###***Functions features*** of the program :"
      ],
      "metadata": {
        "id": "9Im-29JBiT1E"
      }
    },
    {
      "cell_type": "markdown",
      "source": [
        "####*help*"
      ],
      "metadata": {
        "id": "VLBqNX8Bat1v"
      }
    },
    {
      "cell_type": "code",
      "source": [
        "\"\"\"\n",
        "help(): Returns a menu with available commands. It will be called twice in the program.\n",
        "\"\"\"\n",
        "\n",
        "def help():\n",
        "  return (\"I comandi disponibili sono i seguenti:\\n\"+\n",
        "         \"  • aggiungi: aggiungi un prodotto al magazzino\\n\"+\n",
        "         \"  • elenca: elenca i prodotti in magazzino\\n\"+\n",
        "         \"  • vendita: reggistra una vendita effetuata\\n\"+\n",
        "         \"  • profitti: mostra i profitti totali\\n\"+\n",
        "         \"  • aiuto: mostra i possibili comandi\\n\"+\n",
        "         \"  • chiudi: esci dal programma\"\n",
        "         )\n"
      ],
      "metadata": {
        "id": "MQ2pwdEwM4So"
      },
      "execution_count": null,
      "outputs": []
    },
    {
      "cell_type": "markdown",
      "source": [
        "####*add_product*"
      ],
      "metadata": {
        "id": "Hh3egrG5bJxn"
      }
    },
    {
      "cell_type": "code",
      "source": [
        "\"\"\"\n",
        "add_product(): checks whether the product is in stock or not, then adds or modifies, the quantity, of the inserted product.\n",
        "\"\"\"\n",
        "\n",
        "def add_product(pandas_df,name_a,quantity_a,address):\n",
        "\n",
        "    prove=pandas_df[pandas_df[\"PRODOTTO\"]==name_a].index.tolist()\n",
        "\n",
        "    if len(prove):\n",
        "      prove=int(prove[0])\n",
        "      pandas_df.at[prove,\"QUANTITA'\"]= int(pandas_df.at[prove,\"QUANTITA'\"])+quantity_a\n",
        "      print(\"AGGIUNTO: %d X %s\" % (pandas_df.at[prove,\"QUANTITA'\"], name_a))\n",
        "\n",
        "    else:\n",
        "      p_price=error_handling(float,\"Prezzo di acquisto: \",\"n\")\n",
        "      price=error_handling(float,\"Prezzo di vendita: \",\"n\")\n",
        "\n",
        "      row=[name_a,quantity_a,price,p_price]\n",
        "      new_row=pd.DataFrame(columns=pandas_df.columns,data=[row])\n",
        "      pandas_df=pd.concat([pandas_df,new_row])\n",
        "      print(f\"AGGIUNTO: {quantity_a} X {name_a}\")\n",
        "\n",
        "    pandas_df.to_csv(address,index=False)\n"
      ],
      "metadata": {
        "id": "gcSmsIgiM4uv"
      },
      "execution_count": null,
      "outputs": []
    },
    {
      "cell_type": "markdown",
      "source": [
        "####*itemize*"
      ],
      "metadata": {
        "id": "2jvnevkPbVFz"
      }
    },
    {
      "cell_type": "code",
      "source": [
        "\"\"\"\n",
        "itemize(): reads three columns of the csv file and shows it on the screen.\n",
        "\"\"\"\n",
        "\n",
        "def itemize(address):\n",
        "  doc=open(address,\"r\")\n",
        "  csv_read=csv.DictReader(doc)\n",
        "  print(\"%s %s %s\"% tuple(csv_read.fieldnames[:3]))\n",
        "  for row in csv_read:\n",
        "    print(\"%s %s €%.2f\" %(row[\"PRODOTTO\"],row[\"QUANTITA'\"],float(row[\"PREZZO\"])))\n",
        "  doc.close()\n"
      ],
      "metadata": {
        "id": "Q8qWiKiOM4_X"
      },
      "execution_count": null,
      "outputs": []
    },
    {
      "cell_type": "markdown",
      "source": [
        "####*add_selling*"
      ],
      "metadata": {
        "id": "zTt8q5oSbh15"
      }
    },
    {
      "cell_type": "code",
      "source": [
        "\"\"\"\n",
        "add_selling(): provides a choice, whether to continue the cycle or interrupt it;\n",
        "when the cycle is interrupted, it only shows the sales made during the current call.\n",
        "\n",
        "\"\"\"\n",
        "\n",
        "def add_selling(pandas_df,address1,address2):\n",
        "  sales_l=[]\n",
        "  request=None\n",
        "  while request!=\"no\":\n",
        "    try:\n",
        "      values=selling(pandas_df,address1,address2)\n",
        "      sales_l.append(values)\n",
        "      i=0\n",
        "      while i==0:\n",
        "        try:\n",
        "          request=input(\"Aggiungere un altro prodotto? (si/no): \")\n",
        "          request=request.lower()\n",
        "          assert request in [\"si\",\"no\"]\n",
        "          i+=1\n",
        "        except AssertionError:\n",
        "          print(\"Risposta non valida.\\nRiprova.\")\n",
        "\n",
        "      if request==\"si\":\n",
        "          continue\n",
        "      elif request==\"no\":\n",
        "          print(\"VENDITA REGISTRATA\")\n",
        "          tot=[]\n",
        "          for i in range(len(sales_l)):\n",
        "            print(f\"-{sales_l[i][1]} X {sales_l[i][0]}: €{sales_l[i][2]:.2f}\")\n",
        "            tot.append(sales_l[i][1]*sales_l[i][2])\n",
        "          print(f\"Totale: €{sum(tot):.2f}\")\n",
        "    except AssertionError:\n",
        "      print(\"Attenzione!\\nLa quantità del prodotto che vuoi vendere è maggiore della quantità presente in magazzino.\\nRiprova.\")\n",
        "    except IndexError :\n",
        "      print(\"Il prodotto inserito non è in magazzino.\\nRiprova.\")\n"
      ],
      "metadata": {
        "id": "VcudONI-M5ND"
      },
      "execution_count": null,
      "outputs": []
    },
    {
      "cell_type": "markdown",
      "source": [
        "####*selling*"
      ],
      "metadata": {
        "id": "PANGuryoVNlQ"
      }
    },
    {
      "cell_type": "code",
      "source": [
        "\"\"\"\n",
        "selling(): change the quantity of the product in stock;\n",
        "adds the sales to a file (which will be used in profit());\n",
        "\"\"\"\n",
        "\n",
        "def selling(pandas_df,address1,address2):\n",
        "   name=input(\"Nome del prodotto: \")\n",
        "   quantity=error_handling(int,\"Quantità: \",\"y\")\n",
        "\n",
        "   prove=pandas_df[pandas_df[\"PRODOTTO\"]==name].index.tolist()\n",
        "   prove=int(prove[0])\n",
        "   assert pandas_df.at[prove,\"QUANTITA'\"]>=quantity\n",
        "   pandas_df.at[prove,\"QUANTITA'\"]= int(pandas_df.at[prove,\"QUANTITA'\"])-quantity\n",
        "   data_p=pandas_df.copy()\n",
        "   verify(address1)\n",
        "   df_2=pd.read_csv(address1)\n",
        "   values=[name,quantity,float(data_p.at[prove,\"PREZZO\"]),float(data_p.at[prove,\"PREZZO_ACQUISTO\"])]\n",
        "   new_row=pd.DataFrame(columns=pandas_df.columns,data=[values])\n",
        "   df_2=pd.concat([df_2,new_row])\n",
        "   df_2.to_csv(address1,index=False)\n",
        "\n",
        "   pandas_df[\"QUANTITA'\"] = pandas_df[\"QUANTITA'\"].replace(0, np.nan)\n",
        "   pandas_df=pandas_df.dropna()\n",
        "   pandas_df.to_csv(address2,index=False)\n",
        "\n",
        "   return values\n"
      ],
      "metadata": {
        "id": "hHjA72n0VNRe"
      },
      "execution_count": null,
      "outputs": []
    },
    {
      "cell_type": "markdown",
      "source": [
        "####*profit*"
      ],
      "metadata": {
        "id": "EZJ2TsfBbrTW"
      }
    },
    {
      "cell_type": "code",
      "source": [
        "\"\"\"\n",
        "profit(): reads a second csv file, calculates and shows the gross and net profit.\n",
        "All sales (including past ones) are included in this calculation.\n",
        "\"\"\"\n",
        "\n",
        "def profit(address):\n",
        "   csv_2=open(address,\"r\")\n",
        "   reader=csv.reader(csv_2)\n",
        "   sales_l=list(reader)\n",
        "   tot_l=[]\n",
        "   tot_n=[]\n",
        "   for i in range(1,len(sales_l)):\n",
        "     tot_l.append(float(sales_l[i][1])*float(sales_l[i][2]))\n",
        "   gross=(sum(tot_l))\n",
        "   for j in range(1,len(sales_l)):\n",
        "     tot_n.append(float(sales_l[j][1])*float(sales_l[j][3]))\n",
        "   net=(gross-(sum(tot_n)))\n",
        "   csv_2.close()\n",
        "   print(f\"Profitto: lordo=€{gross:.2f} netto=€{net:.2f}\")\n"
      ],
      "metadata": {
        "id": "s7m_hYTDM5aL"
      },
      "execution_count": null,
      "outputs": []
    },
    {
      "cell_type": "markdown",
      "source": [
        "##**Section 2:** *the main part*"
      ],
      "metadata": {
        "id": "kuQJeBKEZFJB"
      }
    },
    {
      "cell_type": "code",
      "execution_count": null,
      "metadata": {
        "id": "-k8E86s2WwzQ"
      },
      "outputs": [],
      "source": [
        "\"\"\"\n",
        "This is the main block of the program, where all functions find their use.\n",
        "\"\"\"\n",
        "\n",
        "import csv\n",
        "import pandas as pd\n",
        "import numpy as np\n",
        "\n",
        "\n",
        "dnv_csv=\"/content/drive/MyDrive/Dati_NegozioVegano.csv\"\n",
        "v_csv=\"/content/drive/MyDrive/vendite.csv\"\n",
        "verify(dnv_csv)\n",
        "control=None\n",
        "while control!=\"chiudi\":\n",
        "  df=pd.read_csv(dnv_csv)\n",
        "  file_data=open (dnv_csv,\"w\")\n",
        "\n",
        "  control=input(\"Inserisci un comando: \")\n",
        "  control=control.lower()\n",
        "  if control==\"aggiungi\":\n",
        "    name=input(\"Nome del prodotto: \")\n",
        "    quantity=error_handling(int,\"Quantità: \",\"y\")\n",
        "    add_product(df,name,quantity,dnv_csv)\n",
        "\n",
        "  elif control==\"elenca\":\n",
        "    df.to_csv(dnv_csv,index=False)\n",
        "    itemize(dnv_csv)\n",
        "\n",
        "  elif control==\"vendita\":\n",
        "    add_selling(df,v_csv,dnv_csv)\n",
        "\n",
        "  elif control==\"profitti\":\n",
        "    df.to_csv(dnv_csv,index=False)\n",
        "    profit(v_csv)\n",
        "\n",
        "  elif control==\"aiuto\":\n",
        "    df.to_csv(dnv_csv,index=False)\n",
        "    print(help())\n",
        "\n",
        "  elif control==\"chiudi\":\n",
        "    df.to_csv(dnv_csv,index=False)\n",
        "    file_data.close()\n",
        "    print(\"Bye bye\")\n",
        "\n",
        "  else:\n",
        "    df.to_csv(dnv_csv,index=False)\n",
        "    print(f\"Comando non valido\\n{help()}\")\n"
      ]
    }
  ]
}