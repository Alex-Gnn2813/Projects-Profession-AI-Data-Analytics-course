{
  "nbformat": 4,
  "nbformat_minor": 0,
  "metadata": {
    "colab": {
      "provenance": [],
      "authorship_tag": "ABX9TyOQ5lGOOsMVBw9tZFsKlBHd",
      "include_colab_link": true
    },
    "kernelspec": {
      "name": "python3",
      "display_name": "Python 3"
    },
    "language_info": {
      "name": "python"
    }
  },
  "cells": [
    {
      "cell_type": "markdown",
      "metadata": {
        "id": "view-in-github",
        "colab_type": "text"
      },
      "source": [
        "<a href=\"https://colab.research.google.com/github/Alex-Gnn2813/Projects-Profession-AI-Data-Analytics-course/blob/main/Alessia_Giannalia__Filtro_per_Fake_News.ipynb\" target=\"_parent\"><img src=\"https://colab.research.google.com/assets/colab-badge.svg\" alt=\"Open In Colab\"/></a>"
      ]
    },
    {
      "cell_type": "markdown",
      "source": [
        "#The dataset"
      ],
      "metadata": {
        "id": "jyrgNtQWO44F"
      }
    },
    {
      "cell_type": "code",
      "execution_count": null,
      "metadata": {
        "id": "Sdkw85_2N2fF"
      },
      "outputs": [],
      "source": [
        "!wget https://proai-datasets.s3.eu-west-3.amazonaws.com/fake_news.zip\n",
        "!unzip fake_news.zip"
      ]
    },
    {
      "cell_type": "code",
      "source": [
        "import pandas as pd\n",
        "import gensim.corpora as corpora\n",
        "import gensim.models\n",
        "\n",
        "df_true = pd.read_csv(\"True.csv\")\n",
        "df_fake = pd.read_csv(\"Fake.csv\")"
      ],
      "metadata": {
        "id": "HE3ppF2aOaRc"
      },
      "execution_count": null,
      "outputs": []
    },
    {
      "cell_type": "markdown",
      "source": [
        "###Are fake news more frequent in a certain category?"
      ],
      "metadata": {
        "id": "TJ1TYpw4SPUR"
      }
    },
    {
      "cell_type": "code",
      "source": [
        "\"\"\"\n",
        "We count how many articles are present in each category\n",
        "and calculate their percentage of the total.\n",
        "\"\"\"\n",
        "values=(df_fake[\"subject\"].value_counts()/len(df_fake[\"subject\"]))*100\n",
        "\n",
        "for subject, percentage in values.items():\n",
        "  print(f\"{subject:<18}{percentage:.2f} %\")"
      ],
      "metadata": {
        "colab": {
          "base_uri": "https://localhost:8080/"
        },
        "id": "senMliBQQ68B",
        "outputId": "5c1179c3-1779-4067-b55c-de3d9e86c985"
      },
      "execution_count": null,
      "outputs": [
        {
          "output_type": "stream",
          "name": "stdout",
          "text": [
            "News              38.54 %\n",
            "politics          29.13 %\n",
            "left-news         18.99 %\n",
            "Government News   6.69 %\n",
            "US_News           3.33 %\n",
            "Middle-east       3.31 %\n"
          ]
        }
      ]
    },
    {
      "cell_type": "markdown",
      "source": [
        "###For each category, are there topics that are more subject to fake news?"
      ],
      "metadata": {
        "id": "F2hNKt1-StM8"
      }
    },
    {
      "cell_type": "code",
      "source": [
        "import nltk\n",
        "!python -m spacy download en_core_web_sm\n",
        "nltk.download(\"stopwords\")\n",
        "from nltk.corpus import stopwords"
      ],
      "metadata": {
        "id": "4lXzg7oBbGwp"
      },
      "execution_count": null,
      "outputs": []
    },
    {
      "cell_type": "code",
      "source": [
        "\"\"\"\n",
        "Function to clean our data.\n",
        "\"\"\"\n",
        "from gensim.utils import simple_preprocess\n",
        "\n",
        "def sent_to_words(items):\n",
        "  for i in items:\n",
        "    yield(simple_preprocess(i,deacc=True))\n",
        "\n",
        "\"\"\"\n",
        "This function eliminates stopwords.\n",
        "\"\"\"\n",
        "stopwords=stopwords.words(\"english\")\n",
        "\n",
        "def remove_stopwords(texts):\n",
        "  return[[i for i in words if i not in stopwords] for words in texts]\n",
        "\n",
        "\"\"\"\n",
        "This function implements an LDA model\n",
        "to find the topics.\n",
        "\"\"\"\n",
        "def category_topic(df_,passes=3):\n",
        "\n",
        "  text_cl=remove_stopwords(list(sent_to_words(df_)))\n",
        "  id2word=corpora.Dictionary(text_cl)\n",
        "  corpus=[id2word.doc2bow(i) for i in text_cl]\n",
        "  lda_model=gensim.models.LdaMulticore(corpus=corpus,\n",
        "                                       id2word=id2word,\n",
        "                                       num_topics=6,\n",
        "                                       passes=passes,\n",
        "                                       random_state=42\n",
        "                                       )\n",
        "  return corpus,lda_model\n",
        "\n",
        "\"\"\"\n",
        "This function counts how many documents\n",
        "are part of a topic.\n",
        "\"\"\"\n",
        "def num_doc(corpus,lda_model):\n",
        "\n",
        "  topic_counts={}\n",
        "  for i in corpus:\n",
        "    doc_topics=lda_model.get_document_topics(i)\n",
        "    dom_topic=max(doc_topics, key=lambda x: x[1])[0]\n",
        "    if dom_topic not in topic_counts:\n",
        "      topic_counts[dom_topic]= 0\n",
        "    topic_counts[dom_topic] += 1\n",
        "  for topic,count in topic_counts.items():\n",
        "    print(f\"Topic {topic}: {count} documents\")\n",
        "\n",
        "  return  topic_counts"
      ],
      "metadata": {
        "id": "34-NN7nJa3Gd"
      },
      "execution_count": null,
      "outputs": []
    },
    {
      "cell_type": "code",
      "source": [
        "news= df_fake[df_fake[\"subject\"]==\"News\"]\n",
        "politics= df_fake[df_fake[\"subject\"]==\"politics\"]\n",
        "left_news= df_fake[df_fake[\"subject\"]==\"left-news\"]\n",
        "government_news= df_fake[df_fake[\"subject\"]==\"Government News\"]\n",
        "us_news= df_fake[df_fake[\"subject\"]==\"US_News\"]\n",
        "middle_east= df_fake[df_fake[\"subject\"]==\"Middle-east\"]"
      ],
      "metadata": {
        "id": "3jrzY8JESwjh"
      },
      "execution_count": null,
      "outputs": []
    },
    {
      "cell_type": "markdown",
      "source": [
        "Let's see how many documents are part of each topic found:\n",
        "\n",
        " (the following six cells take about 7 minutes in total)"
      ],
      "metadata": {
        "id": "bbrWC3M2t4Mn"
      }
    },
    {
      "cell_type": "code",
      "source": [
        "corpus,lda_model=category_topic(news[\"text\"])\n",
        "news_nd=num_doc(corpus,lda_model)"
      ],
      "metadata": {
        "colab": {
          "base_uri": "https://localhost:8080/"
        },
        "id": "tkvxa_csn504",
        "outputId": "edc1a898-703a-4d34-ae52-fb77059a2590"
      },
      "execution_count": null,
      "outputs": [
        {
          "output_type": "stream",
          "name": "stdout",
          "text": [
            "Topic 5: 3398 documents\n",
            "Topic 3: 1512 documents\n",
            "Topic 1: 1040 documents\n",
            "Topic 0: 1096 documents\n",
            "Topic 4: 1587 documents\n",
            "Topic 2: 417 documents\n"
          ]
        }
      ]
    },
    {
      "cell_type": "code",
      "source": [
        "corpus,lda_model=category_topic(politics[\"text\"])\n",
        "politics_nd=num_doc(corpus,lda_model)"
      ],
      "metadata": {
        "colab": {
          "base_uri": "https://localhost:8080/"
        },
        "id": "dU98QEmOn7gB",
        "outputId": "5a2fdca9-f165-4235-8fc9-f33b9fb32f1d"
      },
      "execution_count": null,
      "outputs": [
        {
          "output_type": "stream",
          "name": "stdout",
          "text": [
            "Topic 5: 830 documents\n",
            "Topic 0: 1230 documents\n",
            "Topic 2: 1506 documents\n",
            "Topic 1: 692 documents\n",
            "Topic 4: 1879 documents\n",
            "Topic 3: 704 documents\n"
          ]
        }
      ]
    },
    {
      "cell_type": "code",
      "source": [
        "corpus,lda_model=category_topic(left_news[\"text\"],passes=5)\n",
        "left_news_nd=num_doc(corpus,lda_model)"
      ],
      "metadata": {
        "colab": {
          "base_uri": "https://localhost:8080/"
        },
        "id": "UCwQ-7bDn7ys",
        "outputId": "8792b66f-9a6a-4f1e-8782-612504b637ca"
      },
      "execution_count": null,
      "outputs": [
        {
          "output_type": "stream",
          "name": "stdout",
          "text": [
            "Topic 3: 2159 documents\n",
            "Topic 5: 498 documents\n",
            "Topic 1: 560 documents\n",
            "Topic 4: 347 documents\n",
            "Topic 0: 722 documents\n",
            "Topic 2: 173 documents\n"
          ]
        }
      ]
    },
    {
      "cell_type": "code",
      "source": [
        "corpus,lda_model=category_topic(government_news[\"text\"],passes=10)\n",
        "gov_news_nd=num_doc(corpus,lda_model)"
      ],
      "metadata": {
        "colab": {
          "base_uri": "https://localhost:8080/"
        },
        "id": "MKfq6IOHn79t",
        "outputId": "015d01ba-aa43-4a10-95d1-175771567395"
      },
      "execution_count": null,
      "outputs": [
        {
          "output_type": "stream",
          "name": "stdout",
          "text": [
            "Topic 4: 145 documents\n",
            "Topic 3: 225 documents\n",
            "Topic 0: 276 documents\n",
            "Topic 2: 416 documents\n",
            "Topic 5: 344 documents\n",
            "Topic 1: 164 documents\n"
          ]
        }
      ]
    },
    {
      "cell_type": "code",
      "source": [
        "corpus,lda_model=category_topic(us_news[\"text\"],passes=10)\n",
        "us_news_nd=num_doc(corpus,lda_model)"
      ],
      "metadata": {
        "colab": {
          "base_uri": "https://localhost:8080/"
        },
        "id": "hJWfhOeHn8UT",
        "outputId": "7507c872-4023-447d-b005-e08ffd89a6e3"
      },
      "execution_count": null,
      "outputs": [
        {
          "output_type": "stream",
          "name": "stdout",
          "text": [
            "Topic 0: 98 documents\n",
            "Topic 1: 170 documents\n",
            "Topic 2: 207 documents\n",
            "Topic 4: 144 documents\n",
            "Topic 3: 55 documents\n",
            "Topic 5: 109 documents\n"
          ]
        }
      ]
    },
    {
      "cell_type": "code",
      "source": [
        "corpus,lda_model=category_topic(middle_east[\"text\"],passes=10)\n",
        "middle_east_nd=num_doc(corpus,lda_model)"
      ],
      "metadata": {
        "colab": {
          "base_uri": "https://localhost:8080/"
        },
        "id": "uGOKgkeypAm3",
        "outputId": "8957ffd4-c544-464e-e271-7e3df4073058"
      },
      "execution_count": null,
      "outputs": [
        {
          "output_type": "stream",
          "name": "stdout",
          "text": [
            "Topic 0: 105 documents\n",
            "Topic 3: 259 documents\n",
            "Topic 1: 78 documents\n",
            "Topic 4: 182 documents\n",
            "Topic 5: 121 documents\n",
            "Topic 2: 33 documents\n"
          ]
        }
      ]
    },
    {
      "cell_type": "code",
      "source": [
        "\"\"\"\n",
        "Now, we extract only the \"names\"\n",
        "of the topics with the maximum values:\n",
        "\"\"\"\n",
        "n_topic=[news_nd, politics_nd, left_news_nd, gov_news_nd, us_news_nd, middle_east_nd]\n",
        "name=[\"News\",\"politics\",\"left-news\",\"Government News\",\"US_News\",\"Middle-east\"]\n",
        "print(\"For each category, the topics most subject to fake news are:\")\n",
        "\n",
        "for i, category in enumerate(n_topic):\n",
        "    max_= max(category.values())\n",
        "    keys_=([keys_ for keys_, value in category.items() if value == max_])\n",
        "    print(f\"• {name[i]:<18} ⇢ {keys_}\")"
      ],
      "metadata": {
        "colab": {
          "base_uri": "https://localhost:8080/"
        },
        "id": "ozcnYZEmfOcN",
        "outputId": "e4b5d86a-6ca1-4c8d-f992-738a77be6f97"
      },
      "execution_count": null,
      "outputs": [
        {
          "output_type": "stream",
          "name": "stdout",
          "text": [
            "For each category, the topics most subject to fake news are:\n",
            "• News               ⇢ [5]\n",
            "• politics           ⇢ [4]\n",
            "• left-news          ⇢ [3]\n",
            "• Government News    ⇢ [2]\n",
            "• US_News            ⇢ [2]\n",
            "• Middle-east        ⇢ [3]\n"
          ]
        }
      ]
    },
    {
      "cell_type": "markdown",
      "source": [
        "###Do fake news title have patterns?"
      ],
      "metadata": {
        "id": "aJJuLJ4oSb81"
      }
    },
    {
      "cell_type": "code",
      "source": [
        "\"\"\"\n",
        "To answer this question we will try to look for the most common words:\n",
        "\"\"\"\n",
        "from collections import Counter\n",
        "\n",
        "text_cl=remove_stopwords(list(sent_to_words(df_fake[\"title\"])))\n",
        "tokens = [i for text in text_cl for i in text]\n",
        "word_frequency = Counter(tokens)\n",
        "word_frequency=word_frequency.most_common(10)\n",
        "for i in word_frequency:\n",
        "  print(f\" • {i[0]:<9} ⇢  {i[1]} times\")"
      ],
      "metadata": {
        "colab": {
          "base_uri": "https://localhost:8080/"
        },
        "id": "24t-bXWyohs8",
        "outputId": "4872eb7e-4aea-4492-883c-2b5e1ba477ae"
      },
      "execution_count": null,
      "outputs": [
        {
          "output_type": "stream",
          "name": "stdout",
          "text": [
            " • trump     ⇢  9339 times\n",
            " • video     ⇢  8477 times\n",
            " • obama     ⇢  2582 times\n",
            " • hillary   ⇢  2322 times\n",
            " • watch     ⇢  1937 times\n",
            " • president ⇢  1146 times\n",
            " • clinton   ⇢  1138 times\n",
            " • new       ⇢  905 times\n",
            " • black     ⇢  896 times\n",
            " • breaking  ⇢  896 times\n"
          ]
        }
      ]
    },
    {
      "cell_type": "code",
      "source": [
        "\"\"\"\n",
        "Function to calculate co-occurrences\n",
        "\"\"\"\n",
        "import re\n",
        "from collections import defaultdict\n",
        "\n",
        "def co_occurrences(titoli):\n",
        "    co_occurrences=defaultdict(int)\n",
        "    for words in titoli:\n",
        "        for i, words1 in enumerate(words):\n",
        "            for j in range(i+1, len(words)):\n",
        "                words2 = words[j]\n",
        "                pairs=tuple(sorted([words1, words2]))\n",
        "                co_occurrences[pairs] += 1\n",
        "    return co_occurrences"
      ],
      "metadata": {
        "id": "PfY8BtWqogAp"
      },
      "execution_count": null,
      "outputs": []
    },
    {
      "cell_type": "code",
      "source": [
        "\"\"\"\n",
        "We also look for recurring groups of words.\n",
        "We only consider recurring greater than 500.\n",
        "\"\"\"\n",
        "co_occurrences=co_occurrences(text_cl)\n",
        "\n",
        "for pairs, frequency in sorted(co_occurrences.items(), key=lambda x: x[1], reverse=True):\n",
        "  if frequency > 500:\n",
        "    print(f\" • {pairs[0]:<9} &  {pairs[1]:<8} ⇢  {frequency} times\")"
      ],
      "metadata": {
        "colab": {
          "base_uri": "https://localhost:8080/"
        },
        "id": "VOfVDBu5SjqB",
        "outputId": "0be78aef-c843-49f2-f535-4c5915c71137"
      },
      "execution_count": null,
      "outputs": [
        {
          "output_type": "stream",
          "name": "stdout",
          "text": [
            " • trump     &  video    ⇢  3468 times\n",
            " • hillary   &  video    ⇢  1008 times\n",
            " • trump     &  watch    ⇢  986 times\n",
            " • obama     &  video    ⇢  923 times\n",
            " • donald    &  trump    ⇢  868 times\n",
            " • president &  trump    ⇢  857 times\n",
            " • video     &  watch    ⇢  682 times\n",
            " • obama     &  trump    ⇢  621 times\n",
            " • clinton   &  hillary  ⇢  556 times\n",
            " • hillary   &  trump    ⇢  529 times\n",
            " • trump     &  trump    ⇢  523 times\n",
            " • president &  video    ⇢  514 times\n"
          ]
        }
      ]
    },
    {
      "cell_type": "markdown",
      "source": [
        "#Model"
      ],
      "metadata": {
        "id": "0xwG1WIyu3mH"
      }
    },
    {
      "cell_type": "code",
      "source": [
        "\"\"\"\n",
        "Let's train a classification model with MLPClassifier\n",
        "(takes about 32 minutes).\n",
        "\"\"\"\n",
        "from sklearn.model_selection import train_test_split\n",
        "from sklearn.feature_extraction.text import TfidfVectorizer\n",
        "from sklearn.neural_network import MLPClassifier\n",
        "\n",
        "df_true['label'] = 0\n",
        "df_fake['label'] = 1\n",
        "\n",
        "df_combined=pd.concat([df_true, df_fake], axis=0)\n",
        "df_combined=df_combined.sample(frac=1).reset_index(drop=True)\n",
        "\n",
        "text=pd.Series(remove_stopwords(list(sent_to_words(df_combined['text']))))\n",
        "text=text.apply(lambda x: ' '.join(x))\n",
        "\n",
        "X_train, X_test, y_train, y_test=train_test_split(text, df_combined['label'],\n",
        "                                                  test_size=0.3,\n",
        "                                                  random_state=42)\n",
        "\n",
        "vectorizer=TfidfVectorizer()\n",
        "X_train_tfidf=vectorizer.fit_transform(X_train)\n",
        "X_test_tfidf=vectorizer.transform(X_test)\n",
        "\n",
        "clf = MLPClassifier(activation='logistic',\n",
        "                    hidden_layer_sizes=(100,),\n",
        "                    max_iter=100,\n",
        "                    solver='adam',\n",
        "                    tol=0.005,\n",
        "                    verbose=True,\n",
        "                    )\n",
        "\n",
        "clf.fit(X_train_tfidf, y_train)\n",
        "y_pred = clf.predict(X_test_tfidf)\n"
      ],
      "metadata": {
        "colab": {
          "base_uri": "https://localhost:8080/"
        },
        "outputId": "314723c7-4773-46a0-b98f-d334002b7b04",
        "id": "51VDdXKIX-iu"
      },
      "execution_count": null,
      "outputs": [
        {
          "output_type": "stream",
          "name": "stdout",
          "text": [
            "Iteration 1, loss = 0.53715098\n",
            "Iteration 2, loss = 0.23080165\n",
            "Iteration 3, loss = 0.12635075\n",
            "Iteration 4, loss = 0.08494434\n",
            "Iteration 5, loss = 0.06239132\n",
            "Iteration 6, loss = 0.04841594\n",
            "Iteration 7, loss = 0.03916980\n",
            "Iteration 8, loss = 0.03268316\n",
            "Iteration 9, loss = 0.02808499\n",
            "Iteration 10, loss = 0.02460131\n",
            "Iteration 11, loss = 0.02196049\n",
            "Iteration 12, loss = 0.01986426\n",
            "Iteration 13, loss = 0.01813994\n",
            "Iteration 14, loss = 0.01675649\n",
            "Iteration 15, loss = 0.01557957\n",
            "Iteration 16, loss = 0.01460975\n",
            "Iteration 17, loss = 0.01377600\n",
            "Iteration 18, loss = 0.01304441\n",
            "Iteration 19, loss = 0.01240023\n",
            "Training loss did not improve more than tol=0.005000 for 10 consecutive epochs. Stopping.\n"
          ]
        }
      ]
    },
    {
      "cell_type": "markdown",
      "source": [
        "Now let's calculate some metrics to make sure the model works:"
      ],
      "metadata": {
        "id": "34D9HnEygPuH"
      }
    },
    {
      "cell_type": "code",
      "source": [
        "\"\"\"\n",
        "Calculate: accuracy, precision, recall and F1-score\n",
        "\"\"\"\n",
        "from sklearn.metrics import accuracy_score,precision_score, recall_score, f1_score\n",
        "\n",
        "accuracy = accuracy_score(y_test, y_pred)\n",
        "precision = precision_score(y_test, y_pred)\n",
        "recall = recall_score(y_test, y_pred)\n",
        "f1 = f1_score(y_test, y_pred)\n",
        "print(f\"\\nAccuracy: {accuracy*100:.2f}%\")\n",
        "print(\"\\n================================\\n\")\n",
        "print(f\"Precision: {precision:.4f}\")\n",
        "print(\"\\n================================\\n\")\n",
        "print(f\"Recall: {recall:.4f}\")\n",
        "print(\"\\n================================\\n\")\n",
        "print(f\"F1-Score: {f1:.4f}\")\n",
        "print(\"\\n================================\\n\")\n",
        "\n",
        "\"\"\"\n",
        "We compare the root mean square error (RMSE),\n",
        "the mean square error (MSE), and the coefficient\n",
        "of determination ((R^2)).\n",
        "\"\"\"\n",
        "import numpy as np\n",
        "from sklearn.metrics import mean_squared_error,r2_score\n",
        "\n",
        "def evaluate_model(model,dataset):\n",
        "  X,y=dataset\n",
        "  y_pred=model.predict(X)\n",
        "  print(f\"RMSE: {np.sqrt(mean_squared_error(y,y_pred)):.3f}\")\n",
        "  print(f\"MSE: {mean_squared_error(y,y_pred):.2f}\")\n",
        "  print(f\"R2: {r2_score(y,y_pred):.3f}\")\n",
        "  return r2_score(y,y_pred) , np.sqrt(mean_squared_error(y,y_pred))\n",
        "\n",
        "print(\"Train:\")\n",
        "r2,_=evaluate_model(clf,(X_train_tfidf,y_train))\n",
        "print(\"\\n================================\\n\")\n",
        "print(\"Test:\")\n",
        "r22,_=evaluate_model(clf,(X_test_tfidf,y_test))\n",
        "print(\"\\n================================\\n\")\n",
        "print(f\"The difference between the 'train' and 'test' is: {1-(r22/r2):.3f} that is {(1-(r22/r2))*100:.1f} %\\n\\n\")\n"
      ],
      "metadata": {
        "colab": {
          "base_uri": "https://localhost:8080/"
        },
        "id": "ghTk9RM1GqHN",
        "outputId": "3b881b91-92c0-4cc2-98f7-86a4ea5bd949"
      },
      "execution_count": null,
      "outputs": [
        {
          "output_type": "stream",
          "name": "stdout",
          "text": [
            "\n",
            "Accuracy: 98.83%\n",
            "\n",
            "================================\n",
            "\n",
            "Precision: 0.9888\n",
            "\n",
            "================================\n",
            "\n",
            "Recall: 0.9888\n",
            "\n",
            "================================\n",
            "\n",
            "F1-Score: 0.9888\n",
            "\n",
            "================================\n",
            "\n",
            "Train:\n",
            "RMSE: 0.006\n",
            "MSE: 0.00\n",
            "R2: 1.000\n",
            "\n",
            "================================\n",
            "\n",
            "Test:\n",
            "RMSE: 0.108\n",
            "MSE: 0.01\n",
            "R2: 0.953\n",
            "\n",
            "================================\n",
            "\n",
            "The difference between the 'train' and 'test' is: 0.047 that is 4.7 %\n",
            "\n",
            "\n"
          ]
        }
      ]
    },
    {
      "cell_type": "code",
      "source": [
        "\"\"\"\n",
        "Visualizziomo la matrice di confusione\n",
        "\"\"\"\n",
        "import seaborn as sns\n",
        "import matplotlib.pyplot as plt\n",
        "from sklearn.metrics import confusion_matrix\n",
        "\n",
        "cm=confusion_matrix(y_test,y_pred)\n",
        "df_cm=pd.DataFrame(cm, index=[\"Negative\",\"Positive\"],columns=[\"Predicted Negative\",\"Predicted Positive\"])\n",
        "sns.heatmap(df_cm, annot=True, fmt=\"g\")\n",
        "plt.show()"
      ],
      "metadata": {
        "colab": {
          "base_uri": "https://localhost:8080/",
          "height": 430
        },
        "id": "TuN1n9Maeo8d",
        "outputId": "6ff9b087-9916-444a-994b-7284f919c4f2"
      },
      "execution_count": null,
      "outputs": [
        {
          "output_type": "display_data",
          "data": {
            "text/plain": [
              "<Figure size 640x480 with 2 Axes>"
            ],
            "image/png": "[encoded data removed]"
          },
          "metadata": {}
        }
      ]
    },
    {
      "cell_type": "markdown",
      "source": [
        "Now let's save the model"
      ],
      "metadata": {
        "id": "Do_v-3CNiaz9"
      }
    },
    {
      "cell_type": "code",
      "source": [
        "\"\"\"\n",
        "Let's save the MLP model and the TfidfVectorizer\n",
        "\"\"\"\n",
        "import pickle\n",
        "\n",
        "with open(\"mlp_fakenews_classifier.pkl\", \"wb\") as model_fakenews_pkl:\n",
        "    pickle.dump(clf, model_fakenews_pkl, protocol=pickle.HIGHEST_PROTOCOL)\n",
        "\n",
        "with open(\"tfidf_fakenews_vectorizer.pkl\", \"wb\") as vectorizer_fakenews_pkl:\n",
        "    pickle.dump(vectorizer, vectorizer_fakenews_pkl, protocol=pickle.HIGHEST_PROTOCOL)\n"
      ],
      "metadata": {
        "id": "ijEMbES1WZi1"
      },
      "execution_count": null,
      "outputs": []
    }
  ]
}